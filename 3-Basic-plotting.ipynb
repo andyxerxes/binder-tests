{
 "cells": [
  {
   "cell_type": "markdown",
   "metadata": {},
   "source": [
    "## Basic plotting\n",
    "*Version 2021 Aug 17*\n",
    "\n",
    "We will do quite a lot of plotting in these notebooks. These examples will give you the basic idea. There are various different packages people use for making plots in Python. The most common is Matplotlib, and it is available in all the Python distros. However we will be using Bokeh, because it works quite smoothly in web browsers, and makes interactive plots. In Noteable, and in Google Colab, Bokeh works straight away. If you are using Python on your own machine, you may need to install it. For example, if you have the *Anaconda* distribution, you do *conda install bokeh*.\n",
    "\n",
    "The Bokeh web page is [here](https://bokeh.pydata.org). Find the tutorial tab.\n",
    "\n",
    "First, a standard setup:\n"
   ]
  },
  {
   "cell_type": "code",
   "execution_count": 6,
   "metadata": {},
   "outputs": [
    {
     "data": {
      "text/html": [
       "\n",
       "    <div class=\"bk-root\">\n",
       "        <a href=\"https://bokeh.pydata.org\" target=\"_blank\" class=\"bk-logo bk-logo-small bk-logo-notebook\"></a>\n",
       "        <span id=\"1428\">Loading BokehJS ...</span>\n",
       "    </div>"
      ]
     },
     "metadata": {},
     "output_type": "display_data"
    },
    {
     "data": {
      "application/javascript": [
       "\n",
       "(function(root) {\n",
       "  function now() {\n",
       "    return new Date();\n",
       "  }\n",
       "\n",
       "  var force = true;\n",
       "\n",
       "  if (typeof root._bokeh_onload_callbacks === \"undefined\" || force === true) {\n",
       "    root._bokeh_onload_callbacks = [];\n",
       "    root._bokeh_is_loading = undefined;\n",
       "  }\n",
       "\n",
       "  var JS_MIME_TYPE = 'application/javascript';\n",
       "  var HTML_MIME_TYPE = 'text/html';\n",
       "  var EXEC_MIME_TYPE = 'application/vnd.bokehjs_exec.v0+json';\n",
       "  var CLASS_NAME = 'output_bokeh rendered_html';\n",
       "\n",
       "  /**\n",
       "   * Render data to the DOM node\n",
       "   */\n",
       "  function render(props, node) {\n",
       "    var script = document.createElement(\"script\");\n",
       "    node.appendChild(script);\n",
       "  }\n",
       "\n",
       "  /**\n",
       "   * Handle when an output is cleared or removed\n",
       "   */\n",
       "  function handleClearOutput(event, handle) {\n",
       "    var cell = handle.cell;\n",
       "\n",
       "    var id = cell.output_area._bokeh_element_id;\n",
       "    var server_id = cell.output_area._bokeh_server_id;\n",
       "    // Clean up Bokeh references\n",
       "    if (id != null && id in Bokeh.index) {\n",
       "      Bokeh.index[id].model.document.clear();\n",
       "      delete Bokeh.index[id];\n",
       "    }\n",
       "\n",
       "    if (server_id !== undefined) {\n",
       "      // Clean up Bokeh references\n",
       "      var cmd = \"from bokeh.io.state import curstate; print(curstate().uuid_to_server['\" + server_id + \"'].get_sessions()[0].document.roots[0]._id)\";\n",
       "      cell.notebook.kernel.execute(cmd, {\n",
       "        iopub: {\n",
       "          output: function(msg) {\n",
       "            var id = msg.content.text.trim();\n",
       "            if (id in Bokeh.index) {\n",
       "              Bokeh.index[id].model.document.clear();\n",
       "              delete Bokeh.index[id];\n",
       "            }\n",
       "          }\n",
       "        }\n",
       "      });\n",
       "      // Destroy server and session\n",
       "      var cmd = \"import bokeh.io.notebook as ion; ion.destroy_server('\" + server_id + \"')\";\n",
       "      cell.notebook.kernel.execute(cmd);\n",
       "    }\n",
       "  }\n",
       "\n",
       "  /**\n",
       "   * Handle when a new output is added\n",
       "   */\n",
       "  function handleAddOutput(event, handle) {\n",
       "    var output_area = handle.output_area;\n",
       "    var output = handle.output;\n",
       "\n",
       "    // limit handleAddOutput to display_data with EXEC_MIME_TYPE content only\n",
       "    if ((output.output_type != \"display_data\") || (!output.data.hasOwnProperty(EXEC_MIME_TYPE))) {\n",
       "      return\n",
       "    }\n",
       "\n",
       "    var toinsert = output_area.element.find(\".\" + CLASS_NAME.split(' ')[0]);\n",
       "\n",
       "    if (output.metadata[EXEC_MIME_TYPE][\"id\"] !== undefined) {\n",
       "      toinsert[toinsert.length - 1].firstChild.textContent = output.data[JS_MIME_TYPE];\n",
       "      // store reference to embed id on output_area\n",
       "      output_area._bokeh_element_id = output.metadata[EXEC_MIME_TYPE][\"id\"];\n",
       "    }\n",
       "    if (output.metadata[EXEC_MIME_TYPE][\"server_id\"] !== undefined) {\n",
       "      var bk_div = document.createElement(\"div\");\n",
       "      bk_div.innerHTML = output.data[HTML_MIME_TYPE];\n",
       "      var script_attrs = bk_div.children[0].attributes;\n",
       "      for (var i = 0; i < script_attrs.length; i++) {\n",
       "        toinsert[toinsert.length - 1].firstChild.setAttribute(script_attrs[i].name, script_attrs[i].value);\n",
       "      }\n",
       "      // store reference to server id on output_area\n",
       "      output_area._bokeh_server_id = output.metadata[EXEC_MIME_TYPE][\"server_id\"];\n",
       "    }\n",
       "  }\n",
       "\n",
       "  function register_renderer(events, OutputArea) {\n",
       "\n",
       "    function append_mime(data, metadata, element) {\n",
       "      // create a DOM node to render to\n",
       "      var toinsert = this.create_output_subarea(\n",
       "        metadata,\n",
       "        CLASS_NAME,\n",
       "        EXEC_MIME_TYPE\n",
       "      );\n",
       "      this.keyboard_manager.register_events(toinsert);\n",
       "      // Render to node\n",
       "      var props = {data: data, metadata: metadata[EXEC_MIME_TYPE]};\n",
       "      render(props, toinsert[toinsert.length - 1]);\n",
       "      element.append(toinsert);\n",
       "      return toinsert\n",
       "    }\n",
       "\n",
       "    /* Handle when an output is cleared or removed */\n",
       "    events.on('clear_output.CodeCell', handleClearOutput);\n",
       "    events.on('delete.Cell', handleClearOutput);\n",
       "\n",
       "    /* Handle when a new output is added */\n",
       "    events.on('output_added.OutputArea', handleAddOutput);\n",
       "\n",
       "    /**\n",
       "     * Register the mime type and append_mime function with output_area\n",
       "     */\n",
       "    OutputArea.prototype.register_mime_type(EXEC_MIME_TYPE, append_mime, {\n",
       "      /* Is output safe? */\n",
       "      safe: true,\n",
       "      /* Index of renderer in `output_area.display_order` */\n",
       "      index: 0\n",
       "    });\n",
       "  }\n",
       "\n",
       "  // register the mime type if in Jupyter Notebook environment and previously unregistered\n",
       "  if (root.Jupyter !== undefined) {\n",
       "    var events = require('base/js/events');\n",
       "    var OutputArea = require('notebook/js/outputarea').OutputArea;\n",
       "\n",
       "    if (OutputArea.prototype.mime_types().indexOf(EXEC_MIME_TYPE) == -1) {\n",
       "      register_renderer(events, OutputArea);\n",
       "    }\n",
       "  }\n",
       "\n",
       "  \n",
       "  if (typeof (root._bokeh_timeout) === \"undefined\" || force === true) {\n",
       "    root._bokeh_timeout = Date.now() + 5000;\n",
       "    root._bokeh_failed_load = false;\n",
       "  }\n",
       "\n",
       "  var NB_LOAD_WARNING = {'data': {'text/html':\n",
       "     \"<div style='background-color: #fdd'>\\n\"+\n",
       "     \"<p>\\n\"+\n",
       "     \"BokehJS does not appear to have successfully loaded. If loading BokehJS from CDN, this \\n\"+\n",
       "     \"may be due to a slow or bad network connection. Possible fixes:\\n\"+\n",
       "     \"</p>\\n\"+\n",
       "     \"<ul>\\n\"+\n",
       "     \"<li>re-rerun `output_notebook()` to attempt to load from CDN again, or</li>\\n\"+\n",
       "     \"<li>use INLINE resources instead, as so:</li>\\n\"+\n",
       "     \"</ul>\\n\"+\n",
       "     \"<code>\\n\"+\n",
       "     \"from bokeh.resources import INLINE\\n\"+\n",
       "     \"output_notebook(resources=INLINE)\\n\"+\n",
       "     \"</code>\\n\"+\n",
       "     \"</div>\"}};\n",
       "\n",
       "  function display_loaded() {\n",
       "    var el = document.getElementById(\"1428\");\n",
       "    if (el != null) {\n",
       "      el.textContent = \"BokehJS is loading...\";\n",
       "    }\n",
       "    if (root.Bokeh !== undefined) {\n",
       "      if (el != null) {\n",
       "        el.textContent = \"BokehJS \" + root.Bokeh.version + \" successfully loaded.\";\n",
       "      }\n",
       "    } else if (Date.now() < root._bokeh_timeout) {\n",
       "      setTimeout(display_loaded, 100)\n",
       "    }\n",
       "  }\n",
       "\n",
       "\n",
       "  function run_callbacks() {\n",
       "    try {\n",
       "      root._bokeh_onload_callbacks.forEach(function(callback) {\n",
       "        if (callback != null)\n",
       "          callback();\n",
       "      });\n",
       "    } finally {\n",
       "      delete root._bokeh_onload_callbacks\n",
       "    }\n",
       "    console.debug(\"Bokeh: all callbacks have finished\");\n",
       "  }\n",
       "\n",
       "  function load_libs(css_urls, js_urls, callback) {\n",
       "    if (css_urls == null) css_urls = [];\n",
       "    if (js_urls == null) js_urls = [];\n",
       "\n",
       "    root._bokeh_onload_callbacks.push(callback);\n",
       "    if (root._bokeh_is_loading > 0) {\n",
       "      console.debug(\"Bokeh: BokehJS is being loaded, scheduling callback at\", now());\n",
       "      return null;\n",
       "    }\n",
       "    if (js_urls == null || js_urls.length === 0) {\n",
       "      run_callbacks();\n",
       "      return null;\n",
       "    }\n",
       "    console.debug(\"Bokeh: BokehJS not loaded, scheduling load and callback at\", now());\n",
       "    root._bokeh_is_loading = css_urls.length + js_urls.length;\n",
       "\n",
       "    function on_load() {\n",
       "      root._bokeh_is_loading--;\n",
       "      if (root._bokeh_is_loading === 0) {\n",
       "        console.debug(\"Bokeh: all BokehJS libraries/stylesheets loaded\");\n",
       "        run_callbacks()\n",
       "      }\n",
       "    }\n",
       "\n",
       "    function on_error() {\n",
       "      console.error(\"failed to load \" + url);\n",
       "    }\n",
       "\n",
       "    for (var i = 0; i < css_urls.length; i++) {\n",
       "      var url = css_urls[i];\n",
       "      const element = document.createElement(\"link\");\n",
       "      element.onload = on_load;\n",
       "      element.onerror = on_error;\n",
       "      element.rel = \"stylesheet\";\n",
       "      element.type = \"text/css\";\n",
       "      element.href = url;\n",
       "      console.debug(\"Bokeh: injecting link tag for BokehJS stylesheet: \", url);\n",
       "      document.body.appendChild(element);\n",
       "    }\n",
       "\n",
       "    for (var i = 0; i < js_urls.length; i++) {\n",
       "      var url = js_urls[i];\n",
       "      var element = document.createElement('script');\n",
       "      element.onload = on_load;\n",
       "      element.onerror = on_error;\n",
       "      element.async = false;\n",
       "      element.src = url;\n",
       "      console.debug(\"Bokeh: injecting script tag for BokehJS library: \", url);\n",
       "      document.head.appendChild(element);\n",
       "    }\n",
       "  };var element = document.getElementById(\"1428\");\n",
       "  if (element == null) {\n",
       "    console.error(\"Bokeh: ERROR: autoload.js configured with elementid '1428' but no matching script tag was found. \")\n",
       "    return false;\n",
       "  }\n",
       "\n",
       "  function inject_raw_css(css) {\n",
       "    const element = document.createElement(\"style\");\n",
       "    element.appendChild(document.createTextNode(css));\n",
       "    document.body.appendChild(element);\n",
       "  }\n",
       "\n",
       "  var js_urls = [\"https://cdn.pydata.org/bokeh/release/bokeh-1.2.0.min.js\", \"https://cdn.pydata.org/bokeh/release/bokeh-widgets-1.2.0.min.js\", \"https://cdn.pydata.org/bokeh/release/bokeh-tables-1.2.0.min.js\", \"https://cdn.pydata.org/bokeh/release/bokeh-gl-1.2.0.min.js\"];\n",
       "  var css_urls = [\"https://cdn.pydata.org/bokeh/release/bokeh-1.2.0.min.css\", \"https://cdn.pydata.org/bokeh/release/bokeh-widgets-1.2.0.min.css\", \"https://cdn.pydata.org/bokeh/release/bokeh-tables-1.2.0.min.css\"];\n",
       "\n",
       "  var inline_js = [\n",
       "    function(Bokeh) {\n",
       "      Bokeh.set_log_level(\"info\");\n",
       "    },\n",
       "    \n",
       "    function(Bokeh) {\n",
       "      \n",
       "    },\n",
       "    function(Bokeh) {} // ensure no trailing comma for IE\n",
       "  ];\n",
       "\n",
       "  function run_inline_js() {\n",
       "    \n",
       "    if ((root.Bokeh !== undefined) || (force === true)) {\n",
       "      for (var i = 0; i < inline_js.length; i++) {\n",
       "        inline_js[i].call(root, root.Bokeh);\n",
       "      }if (force === true) {\n",
       "        display_loaded();\n",
       "      }} else if (Date.now() < root._bokeh_timeout) {\n",
       "      setTimeout(run_inline_js, 100);\n",
       "    } else if (!root._bokeh_failed_load) {\n",
       "      console.log(\"Bokeh: BokehJS failed to load within specified timeout.\");\n",
       "      root._bokeh_failed_load = true;\n",
       "    } else if (force !== true) {\n",
       "      var cell = $(document.getElementById(\"1428\")).parents('.cell').data().cell;\n",
       "      cell.output_area.append_execute_result(NB_LOAD_WARNING)\n",
       "    }\n",
       "\n",
       "  }\n",
       "\n",
       "  if (root._bokeh_is_loading === 0) {\n",
       "    console.debug(\"Bokeh: BokehJS loaded, going straight to plotting\");\n",
       "    run_inline_js();\n",
       "  } else {\n",
       "    load_libs(css_urls, js_urls, function() {\n",
       "      console.debug(\"Bokeh: BokehJS plotting callback run at\", now());\n",
       "      run_inline_js();\n",
       "    });\n",
       "  }\n",
       "}(window));"
      ],
      "application/vnd.bokehjs_load.v0+json": "\n(function(root) {\n  function now() {\n    return new Date();\n  }\n\n  var force = true;\n\n  if (typeof root._bokeh_onload_callbacks === \"undefined\" || force === true) {\n    root._bokeh_onload_callbacks = [];\n    root._bokeh_is_loading = undefined;\n  }\n\n  \n\n  \n  if (typeof (root._bokeh_timeout) === \"undefined\" || force === true) {\n    root._bokeh_timeout = Date.now() + 5000;\n    root._bokeh_failed_load = false;\n  }\n\n  var NB_LOAD_WARNING = {'data': {'text/html':\n     \"<div style='background-color: #fdd'>\\n\"+\n     \"<p>\\n\"+\n     \"BokehJS does not appear to have successfully loaded. If loading BokehJS from CDN, this \\n\"+\n     \"may be due to a slow or bad network connection. Possible fixes:\\n\"+\n     \"</p>\\n\"+\n     \"<ul>\\n\"+\n     \"<li>re-rerun `output_notebook()` to attempt to load from CDN again, or</li>\\n\"+\n     \"<li>use INLINE resources instead, as so:</li>\\n\"+\n     \"</ul>\\n\"+\n     \"<code>\\n\"+\n     \"from bokeh.resources import INLINE\\n\"+\n     \"output_notebook(resources=INLINE)\\n\"+\n     \"</code>\\n\"+\n     \"</div>\"}};\n\n  function display_loaded() {\n    var el = document.getElementById(\"1428\");\n    if (el != null) {\n      el.textContent = \"BokehJS is loading...\";\n    }\n    if (root.Bokeh !== undefined) {\n      if (el != null) {\n        el.textContent = \"BokehJS \" + root.Bokeh.version + \" successfully loaded.\";\n      }\n    } else if (Date.now() < root._bokeh_timeout) {\n      setTimeout(display_loaded, 100)\n    }\n  }\n\n\n  function run_callbacks() {\n    try {\n      root._bokeh_onload_callbacks.forEach(function(callback) {\n        if (callback != null)\n          callback();\n      });\n    } finally {\n      delete root._bokeh_onload_callbacks\n    }\n    console.debug(\"Bokeh: all callbacks have finished\");\n  }\n\n  function load_libs(css_urls, js_urls, callback) {\n    if (css_urls == null) css_urls = [];\n    if (js_urls == null) js_urls = [];\n\n    root._bokeh_onload_callbacks.push(callback);\n    if (root._bokeh_is_loading > 0) {\n      console.debug(\"Bokeh: BokehJS is being loaded, scheduling callback at\", now());\n      return null;\n    }\n    if (js_urls == null || js_urls.length === 0) {\n      run_callbacks();\n      return null;\n    }\n    console.debug(\"Bokeh: BokehJS not loaded, scheduling load and callback at\", now());\n    root._bokeh_is_loading = css_urls.length + js_urls.length;\n\n    function on_load() {\n      root._bokeh_is_loading--;\n      if (root._bokeh_is_loading === 0) {\n        console.debug(\"Bokeh: all BokehJS libraries/stylesheets loaded\");\n        run_callbacks()\n      }\n    }\n\n    function on_error() {\n      console.error(\"failed to load \" + url);\n    }\n\n    for (var i = 0; i < css_urls.length; i++) {\n      var url = css_urls[i];\n      const element = document.createElement(\"link\");\n      element.onload = on_load;\n      element.onerror = on_error;\n      element.rel = \"stylesheet\";\n      element.type = \"text/css\";\n      element.href = url;\n      console.debug(\"Bokeh: injecting link tag for BokehJS stylesheet: \", url);\n      document.body.appendChild(element);\n    }\n\n    for (var i = 0; i < js_urls.length; i++) {\n      var url = js_urls[i];\n      var element = document.createElement('script');\n      element.onload = on_load;\n      element.onerror = on_error;\n      element.async = false;\n      element.src = url;\n      console.debug(\"Bokeh: injecting script tag for BokehJS library: \", url);\n      document.head.appendChild(element);\n    }\n  };var element = document.getElementById(\"1428\");\n  if (element == null) {\n    console.error(\"Bokeh: ERROR: autoload.js configured with elementid '1428' but no matching script tag was found. \")\n    return false;\n  }\n\n  function inject_raw_css(css) {\n    const element = document.createElement(\"style\");\n    element.appendChild(document.createTextNode(css));\n    document.body.appendChild(element);\n  }\n\n  var js_urls = [\"https://cdn.pydata.org/bokeh/release/bokeh-1.2.0.min.js\", \"https://cdn.pydata.org/bokeh/release/bokeh-widgets-1.2.0.min.js\", \"https://cdn.pydata.org/bokeh/release/bokeh-tables-1.2.0.min.js\", \"https://cdn.pydata.org/bokeh/release/bokeh-gl-1.2.0.min.js\"];\n  var css_urls = [\"https://cdn.pydata.org/bokeh/release/bokeh-1.2.0.min.css\", \"https://cdn.pydata.org/bokeh/release/bokeh-widgets-1.2.0.min.css\", \"https://cdn.pydata.org/bokeh/release/bokeh-tables-1.2.0.min.css\"];\n\n  var inline_js = [\n    function(Bokeh) {\n      Bokeh.set_log_level(\"info\");\n    },\n    \n    function(Bokeh) {\n      \n    },\n    function(Bokeh) {} // ensure no trailing comma for IE\n  ];\n\n  function run_inline_js() {\n    \n    if ((root.Bokeh !== undefined) || (force === true)) {\n      for (var i = 0; i < inline_js.length; i++) {\n        inline_js[i].call(root, root.Bokeh);\n      }if (force === true) {\n        display_loaded();\n      }} else if (Date.now() < root._bokeh_timeout) {\n      setTimeout(run_inline_js, 100);\n    } else if (!root._bokeh_failed_load) {\n      console.log(\"Bokeh: BokehJS failed to load within specified timeout.\");\n      root._bokeh_failed_load = true;\n    } else if (force !== true) {\n      var cell = $(document.getElementById(\"1428\")).parents('.cell').data().cell;\n      cell.output_area.append_execute_result(NB_LOAD_WARNING)\n    }\n\n  }\n\n  if (root._bokeh_is_loading === 0) {\n    console.debug(\"Bokeh: BokehJS loaded, going straight to plotting\");\n    run_inline_js();\n  } else {\n    load_libs(css_urls, js_urls, function() {\n      console.debug(\"Bokeh: BokehJS plotting callback run at\", now());\n      run_inline_js();\n    });\n  }\n}(window));"
     },
     "metadata": {},
     "output_type": "display_data"
    }
   ],
   "source": [
    "from math import *  # basic maths routines\n",
    "import numpy as np  # more advanced numerical stuff\n",
    "from bokeh.plotting import figure, output_file, output_notebook, show\n",
    "output_notebook()  # plot inside the notebook"
   ]
  },
  {
   "cell_type": "markdown",
   "metadata": {},
   "source": [
    "### Bokeh logic\n",
    "\n",
    "Making a plot with Bokeh comes in four stages.   \n",
    "(1) Set up the data you want to plot.   \n",
    "(2) Create a *figure* object that holds the parts.  \n",
    "(3) Add various things to the figure object - axes, lines joining the data, title, etc.   \n",
    "(4) When you are done, *show* the plot.  "
   ]
  },
  {
   "cell_type": "markdown",
   "metadata": {},
   "source": [
    "### A test plot"
   ]
  },
  {
   "cell_type": "code",
   "execution_count": 7,
   "metadata": {},
   "outputs": [
    {
     "data": {
      "text/html": [
       "\n",
       "\n",
       "\n",
       "\n",
       "\n",
       "\n",
       "  <div class=\"bk-root\" id=\"95c4f022-5857-45c4-b5b4-9fcd2c2a5655\" data-root-id=\"1429\"></div>\n"
      ]
     },
     "metadata": {},
     "output_type": "display_data"
    },
    {
     "data": {
      "application/javascript": [
       "(function(root) {\n",
       "  function embed_document(root) {\n",
       "    \n",
       "  var docs_json = {\"8d10435b-6377-4056-a8e9-f3cf71be5284\":{\"roots\":{\"references\":[{\"attributes\":{\"below\":[{\"id\":\"1440\",\"type\":\"LinearAxis\"}],\"center\":[{\"id\":\"1444\",\"type\":\"Grid\"},{\"id\":\"1449\",\"type\":\"Grid\"}],\"left\":[{\"id\":\"1445\",\"type\":\"LinearAxis\"}],\"plot_height\":400,\"plot_width\":400,\"renderers\":[{\"id\":\"1466\",\"type\":\"GlyphRenderer\"}],\"title\":{\"id\":\"1430\",\"type\":\"Title\"},\"toolbar\":{\"id\":\"1456\",\"type\":\"Toolbar\"},\"x_range\":{\"id\":\"1432\",\"type\":\"DataRange1d\"},\"x_scale\":{\"id\":\"1436\",\"type\":\"LinearScale\"},\"y_range\":{\"id\":\"1434\",\"type\":\"DataRange1d\"},\"y_scale\":{\"id\":\"1438\",\"type\":\"LinearScale\"}},\"id\":\"1429\",\"subtype\":\"Figure\",\"type\":\"Plot\"},{\"attributes\":{\"dimension\":1,\"ticker\":{\"id\":\"1446\",\"type\":\"BasicTicker\"}},\"id\":\"1449\",\"type\":\"Grid\"},{\"attributes\":{\"line_color\":\"#1f77b4\",\"line_width\":3,\"x\":{\"field\":\"x\"},\"y\":{\"field\":\"y\"}},\"id\":\"1464\",\"type\":\"Line\"},{\"attributes\":{},\"id\":\"1453\",\"type\":\"SaveTool\"},{\"attributes\":{},\"id\":\"1455\",\"type\":\"HelpTool\"},{\"attributes\":{\"line_alpha\":0.1,\"line_color\":\"#1f77b4\",\"line_width\":3,\"x\":{\"field\":\"x\"},\"y\":{\"field\":\"y\"}},\"id\":\"1465\",\"type\":\"Line\"},{\"attributes\":{},\"id\":\"1454\",\"type\":\"ResetTool\"},{\"attributes\":{\"callback\":null,\"data\":{\"x\":[1,2,3,4,5,6],\"y\":[4,8,10,11,7,3]},\"selected\":{\"id\":\"1504\",\"type\":\"Selection\"},\"selection_policy\":{\"id\":\"1503\",\"type\":\"UnionRenderers\"}},\"id\":\"1463\",\"type\":\"ColumnDataSource\"},{\"attributes\":{\"ticker\":{\"id\":\"1441\",\"type\":\"BasicTicker\"}},\"id\":\"1444\",\"type\":\"Grid\"},{\"attributes\":{},\"id\":\"1438\",\"type\":\"LinearScale\"},{\"attributes\":{\"formatter\":{\"id\":\"1499\",\"type\":\"BasicTickFormatter\"},\"ticker\":{\"id\":\"1441\",\"type\":\"BasicTicker\"}},\"id\":\"1440\",\"type\":\"LinearAxis\"},{\"attributes\":{},\"id\":\"1501\",\"type\":\"BasicTickFormatter\"},{\"attributes\":{},\"id\":\"1441\",\"type\":\"BasicTicker\"},{\"attributes\":{\"text\":\"test plot\"},\"id\":\"1430\",\"type\":\"Title\"},{\"attributes\":{\"callback\":null},\"id\":\"1432\",\"type\":\"DataRange1d\"},{\"attributes\":{\"callback\":null},\"id\":\"1434\",\"type\":\"DataRange1d\"},{\"attributes\":{},\"id\":\"1436\",\"type\":\"LinearScale\"},{\"attributes\":{},\"id\":\"1503\",\"type\":\"UnionRenderers\"},{\"attributes\":{\"formatter\":{\"id\":\"1501\",\"type\":\"BasicTickFormatter\"},\"ticker\":{\"id\":\"1446\",\"type\":\"BasicTicker\"}},\"id\":\"1445\",\"type\":\"LinearAxis\"},{\"attributes\":{\"data_source\":{\"id\":\"1463\",\"type\":\"ColumnDataSource\"},\"glyph\":{\"id\":\"1464\",\"type\":\"Line\"},\"hover_glyph\":null,\"muted_glyph\":null,\"nonselection_glyph\":{\"id\":\"1465\",\"type\":\"Line\"},\"selection_glyph\":null,\"view\":{\"id\":\"1467\",\"type\":\"CDSView\"}},\"id\":\"1466\",\"type\":\"GlyphRenderer\"},{\"attributes\":{},\"id\":\"1499\",\"type\":\"BasicTickFormatter\"},{\"attributes\":{\"overlay\":{\"id\":\"1505\",\"type\":\"BoxAnnotation\"}},\"id\":\"1452\",\"type\":\"BoxZoomTool\"},{\"attributes\":{\"active_drag\":\"auto\",\"active_inspect\":\"auto\",\"active_multi\":null,\"active_scroll\":\"auto\",\"active_tap\":\"auto\",\"tools\":[{\"id\":\"1450\",\"type\":\"PanTool\"},{\"id\":\"1451\",\"type\":\"WheelZoomTool\"},{\"id\":\"1452\",\"type\":\"BoxZoomTool\"},{\"id\":\"1453\",\"type\":\"SaveTool\"},{\"id\":\"1454\",\"type\":\"ResetTool\"},{\"id\":\"1455\",\"type\":\"HelpTool\"}]},\"id\":\"1456\",\"type\":\"Toolbar\"},{\"attributes\":{},\"id\":\"1450\",\"type\":\"PanTool\"},{\"attributes\":{},\"id\":\"1504\",\"type\":\"Selection\"},{\"attributes\":{\"bottom_units\":\"screen\",\"fill_alpha\":{\"value\":0.5},\"fill_color\":{\"value\":\"lightgrey\"},\"left_units\":\"screen\",\"level\":\"overlay\",\"line_alpha\":{\"value\":1.0},\"line_color\":{\"value\":\"black\"},\"line_dash\":[4,4],\"line_width\":{\"value\":2},\"render_mode\":\"css\",\"right_units\":\"screen\",\"top_units\":\"screen\"},\"id\":\"1505\",\"type\":\"BoxAnnotation\"},{\"attributes\":{},\"id\":\"1451\",\"type\":\"WheelZoomTool\"},{\"attributes\":{},\"id\":\"1446\",\"type\":\"BasicTicker\"},{\"attributes\":{\"source\":{\"id\":\"1463\",\"type\":\"ColumnDataSource\"}},\"id\":\"1467\",\"type\":\"CDSView\"}],\"root_ids\":[\"1429\"]},\"title\":\"Bokeh Application\",\"version\":\"1.2.0\"}};\n",
       "  var render_items = [{\"docid\":\"8d10435b-6377-4056-a8e9-f3cf71be5284\",\"roots\":{\"1429\":\"95c4f022-5857-45c4-b5b4-9fcd2c2a5655\"}}];\n",
       "  root.Bokeh.embed.embed_items_notebook(docs_json, render_items);\n",
       "\n",
       "  }\n",
       "  if (root.Bokeh !== undefined) {\n",
       "    embed_document(root);\n",
       "  } else {\n",
       "    var attempts = 0;\n",
       "    var timer = setInterval(function(root) {\n",
       "      if (root.Bokeh !== undefined) {\n",
       "        embed_document(root);\n",
       "        clearInterval(timer);\n",
       "      }\n",
       "      attempts++;\n",
       "      if (attempts > 100) {\n",
       "        console.log(\"Bokeh: ERROR: Unable to run BokehJS code because BokehJS library is missing\");\n",
       "        clearInterval(timer);\n",
       "      }\n",
       "    }, 10, root)\n",
       "  }\n",
       "})(window);"
      ],
      "application/vnd.bokehjs_exec.v0+json": ""
     },
     "metadata": {
      "application/vnd.bokehjs_exec.v0+json": {
       "id": "1429"
      }
     },
     "output_type": "display_data"
    }
   ],
   "source": [
    "# Set up the data\n",
    "x=[1,2,3,4,5,6]\n",
    "y=[4,8,10,11,7,3]\n",
    "# create the figure object\n",
    "p = figure(title=\"test plot\", plot_width=400, plot_height=400)\n",
    "# add a line joining the data points \n",
    "p.line(x,y,line_width=3)\n",
    "# plot the object\n",
    "show(p)\n"
   ]
  },
  {
   "cell_type": "markdown",
   "metadata": {},
   "source": [
    "#### Playing with the plot\n",
    "\n",
    "Note that the plot comes with some tools that allow you to pan and zoom, or save the plot to a file. Try playing with some of the plot set-up and re-running. \n",
    "\n",
    "Next we could try plotting circle markers."
   ]
  },
  {
   "cell_type": "code",
   "execution_count": 8,
   "metadata": {},
   "outputs": [
    {
     "data": {
      "text/html": [
       "\n",
       "\n",
       "\n",
       "\n",
       "\n",
       "\n",
       "  <div class=\"bk-root\" id=\"137ab779-6338-42e7-9cf1-a93c77ad7f23\" data-root-id=\"1429\"></div>\n"
      ]
     },
     "metadata": {},
     "output_type": "display_data"
    },
    {
     "data": {
      "application/javascript": [
       "(function(root) {\n",
       "  function embed_document(root) {\n",
       "    \n",
       "  var docs_json = {\"1c262610-a15d-4e58-b2f5-7a6a7e0b55b2\":{\"roots\":{\"references\":[{\"attributes\":{\"below\":[{\"id\":\"1440\",\"type\":\"LinearAxis\"}],\"center\":[{\"id\":\"1444\",\"type\":\"Grid\"},{\"id\":\"1449\",\"type\":\"Grid\"}],\"left\":[{\"id\":\"1445\",\"type\":\"LinearAxis\"}],\"plot_height\":400,\"plot_width\":400,\"renderers\":[{\"id\":\"1466\",\"type\":\"GlyphRenderer\"},{\"id\":\"1557\",\"type\":\"GlyphRenderer\"}],\"title\":{\"id\":\"1430\",\"type\":\"Title\"},\"toolbar\":{\"id\":\"1456\",\"type\":\"Toolbar\"},\"x_range\":{\"id\":\"1432\",\"type\":\"DataRange1d\"},\"x_scale\":{\"id\":\"1436\",\"type\":\"LinearScale\"},\"y_range\":{\"id\":\"1434\",\"type\":\"DataRange1d\"},\"y_scale\":{\"id\":\"1438\",\"type\":\"LinearScale\"}},\"id\":\"1429\",\"subtype\":\"Figure\",\"type\":\"Plot\"},{\"attributes\":{\"dimension\":1,\"ticker\":{\"id\":\"1446\",\"type\":\"BasicTicker\"}},\"id\":\"1449\",\"type\":\"Grid\"},{\"attributes\":{\"callback\":null,\"data\":{\"x\":[1,2,3,4,5,6],\"y\":[4,8,10,11,7,3]},\"selected\":{\"id\":\"1597\",\"type\":\"Selection\"},\"selection_policy\":{\"id\":\"1596\",\"type\":\"UnionRenderers\"}},\"id\":\"1554\",\"type\":\"ColumnDataSource\"},{\"attributes\":{\"fill_color\":{\"value\":\"red\"},\"line_color\":{\"value\":\"#1f77b4\"},\"size\":{\"units\":\"screen\",\"value\":10},\"x\":{\"field\":\"x\"},\"y\":{\"field\":\"y\"}},\"id\":\"1555\",\"type\":\"Circle\"},{\"attributes\":{\"line_color\":\"#1f77b4\",\"line_width\":3,\"x\":{\"field\":\"x\"},\"y\":{\"field\":\"y\"}},\"id\":\"1464\",\"type\":\"Line\"},{\"attributes\":{\"source\":{\"id\":\"1554\",\"type\":\"ColumnDataSource\"}},\"id\":\"1558\",\"type\":\"CDSView\"},{\"attributes\":{},\"id\":\"1453\",\"type\":\"SaveTool\"},{\"attributes\":{},\"id\":\"1455\",\"type\":\"HelpTool\"},{\"attributes\":{\"line_alpha\":0.1,\"line_color\":\"#1f77b4\",\"line_width\":3,\"x\":{\"field\":\"x\"},\"y\":{\"field\":\"y\"}},\"id\":\"1465\",\"type\":\"Line\"},{\"attributes\":{},\"id\":\"1454\",\"type\":\"ResetTool\"},{\"attributes\":{\"callback\":null,\"data\":{\"x\":[1,2,3,4,5,6],\"y\":[4,8,10,11,7,3]},\"selected\":{\"id\":\"1504\",\"type\":\"Selection\"},\"selection_policy\":{\"id\":\"1503\",\"type\":\"UnionRenderers\"}},\"id\":\"1463\",\"type\":\"ColumnDataSource\"},{\"attributes\":{\"ticker\":{\"id\":\"1441\",\"type\":\"BasicTicker\"}},\"id\":\"1444\",\"type\":\"Grid\"},{\"attributes\":{},\"id\":\"1438\",\"type\":\"LinearScale\"},{\"attributes\":{\"formatter\":{\"id\":\"1499\",\"type\":\"BasicTickFormatter\"},\"ticker\":{\"id\":\"1441\",\"type\":\"BasicTicker\"}},\"id\":\"1440\",\"type\":\"LinearAxis\"},{\"attributes\":{},\"id\":\"1501\",\"type\":\"BasicTickFormatter\"},{\"attributes\":{},\"id\":\"1441\",\"type\":\"BasicTicker\"},{\"attributes\":{\"data_source\":{\"id\":\"1554\",\"type\":\"ColumnDataSource\"},\"glyph\":{\"id\":\"1555\",\"type\":\"Circle\"},\"hover_glyph\":null,\"muted_glyph\":null,\"nonselection_glyph\":{\"id\":\"1556\",\"type\":\"Circle\"},\"selection_glyph\":null,\"view\":{\"id\":\"1558\",\"type\":\"CDSView\"}},\"id\":\"1557\",\"type\":\"GlyphRenderer\"},{\"attributes\":{\"text\":\"test plot\"},\"id\":\"1430\",\"type\":\"Title\"},{\"attributes\":{\"callback\":null},\"id\":\"1432\",\"type\":\"DataRange1d\"},{\"attributes\":{\"callback\":null},\"id\":\"1434\",\"type\":\"DataRange1d\"},{\"attributes\":{},\"id\":\"1436\",\"type\":\"LinearScale\"},{\"attributes\":{},\"id\":\"1503\",\"type\":\"UnionRenderers\"},{\"attributes\":{\"formatter\":{\"id\":\"1501\",\"type\":\"BasicTickFormatter\"},\"ticker\":{\"id\":\"1446\",\"type\":\"BasicTicker\"}},\"id\":\"1445\",\"type\":\"LinearAxis\"},{\"attributes\":{\"data_source\":{\"id\":\"1463\",\"type\":\"ColumnDataSource\"},\"glyph\":{\"id\":\"1464\",\"type\":\"Line\"},\"hover_glyph\":null,\"muted_glyph\":null,\"nonselection_glyph\":{\"id\":\"1465\",\"type\":\"Line\"},\"selection_glyph\":null,\"view\":{\"id\":\"1467\",\"type\":\"CDSView\"}},\"id\":\"1466\",\"type\":\"GlyphRenderer\"},{\"attributes\":{},\"id\":\"1499\",\"type\":\"BasicTickFormatter\"},{\"attributes\":{\"overlay\":{\"id\":\"1505\",\"type\":\"BoxAnnotation\"}},\"id\":\"1452\",\"type\":\"BoxZoomTool\"},{\"attributes\":{\"active_drag\":\"auto\",\"active_inspect\":\"auto\",\"active_multi\":null,\"active_scroll\":\"auto\",\"active_tap\":\"auto\",\"tools\":[{\"id\":\"1450\",\"type\":\"PanTool\"},{\"id\":\"1451\",\"type\":\"WheelZoomTool\"},{\"id\":\"1452\",\"type\":\"BoxZoomTool\"},{\"id\":\"1453\",\"type\":\"SaveTool\"},{\"id\":\"1454\",\"type\":\"ResetTool\"},{\"id\":\"1455\",\"type\":\"HelpTool\"}]},\"id\":\"1456\",\"type\":\"Toolbar\"},{\"attributes\":{},\"id\":\"1450\",\"type\":\"PanTool\"},{\"attributes\":{},\"id\":\"1504\",\"type\":\"Selection\"},{\"attributes\":{},\"id\":\"1597\",\"type\":\"Selection\"},{\"attributes\":{\"bottom_units\":\"screen\",\"fill_alpha\":{\"value\":0.5},\"fill_color\":{\"value\":\"lightgrey\"},\"left_units\":\"screen\",\"level\":\"overlay\",\"line_alpha\":{\"value\":1.0},\"line_color\":{\"value\":\"black\"},\"line_dash\":[4,4],\"line_width\":{\"value\":2},\"render_mode\":\"css\",\"right_units\":\"screen\",\"top_units\":\"screen\"},\"id\":\"1505\",\"type\":\"BoxAnnotation\"},{\"attributes\":{\"fill_alpha\":{\"value\":0.1},\"fill_color\":{\"value\":\"#1f77b4\"},\"line_alpha\":{\"value\":0.1},\"line_color\":{\"value\":\"#1f77b4\"},\"size\":{\"units\":\"screen\",\"value\":10},\"x\":{\"field\":\"x\"},\"y\":{\"field\":\"y\"}},\"id\":\"1556\",\"type\":\"Circle\"},{\"attributes\":{},\"id\":\"1451\",\"type\":\"WheelZoomTool\"},{\"attributes\":{},\"id\":\"1446\",\"type\":\"BasicTicker\"},{\"attributes\":{\"source\":{\"id\":\"1463\",\"type\":\"ColumnDataSource\"}},\"id\":\"1467\",\"type\":\"CDSView\"},{\"attributes\":{},\"id\":\"1596\",\"type\":\"UnionRenderers\"}],\"root_ids\":[\"1429\"]},\"title\":\"Bokeh Application\",\"version\":\"1.2.0\"}};\n",
       "  var render_items = [{\"docid\":\"1c262610-a15d-4e58-b2f5-7a6a7e0b55b2\",\"roots\":{\"1429\":\"137ab779-6338-42e7-9cf1-a93c77ad7f23\"}}];\n",
       "  root.Bokeh.embed.embed_items_notebook(docs_json, render_items);\n",
       "\n",
       "  }\n",
       "  if (root.Bokeh !== undefined) {\n",
       "    embed_document(root);\n",
       "  } else {\n",
       "    var attempts = 0;\n",
       "    var timer = setInterval(function(root) {\n",
       "      if (root.Bokeh !== undefined) {\n",
       "        embed_document(root);\n",
       "        clearInterval(timer);\n",
       "      }\n",
       "      attempts++;\n",
       "      if (attempts > 100) {\n",
       "        console.log(\"Bokeh: ERROR: Unable to run BokehJS code because BokehJS library is missing\");\n",
       "        clearInterval(timer);\n",
       "      }\n",
       "    }, 10, root)\n",
       "  }\n",
       "})(window);"
      ],
      "application/vnd.bokehjs_exec.v0+json": ""
     },
     "metadata": {
      "application/vnd.bokehjs_exec.v0+json": {
       "id": "1429"
      }
     },
     "output_type": "display_data"
    }
   ],
   "source": [
    "p.circle(x,y, fill_color=\"red\", size=10)\n",
    "show(p)"
   ]
  },
  {
   "cell_type": "markdown",
   "metadata": {},
   "source": [
    "Note that \"color\" has to be spelled in American... Notice also that our new plot has *both* the line and the circles. We added the circles to \"p\". Whenever we do \"show(p)\" we get a plot with whatever we have added to \"p\" so far. If we wanted just the circles, we could make a new figure object, but using the same data, like this:"
   ]
  },
  {
   "cell_type": "code",
   "execution_count": 9,
   "metadata": {},
   "outputs": [
    {
     "data": {
      "text/html": [
       "\n",
       "\n",
       "\n",
       "\n",
       "\n",
       "\n",
       "  <div class=\"bk-root\" id=\"8e00c50e-1900-4331-8c69-b1cb8b1dcebf\" data-root-id=\"1659\"></div>\n"
      ]
     },
     "metadata": {},
     "output_type": "display_data"
    },
    {
     "data": {
      "application/javascript": [
       "(function(root) {\n",
       "  function embed_document(root) {\n",
       "    \n",
       "  var docs_json = {\"a5ef31e0-d264-4899-b4e3-0dabef4d1d05\":{\"roots\":{\"references\":[{\"attributes\":{\"below\":[{\"id\":\"1670\",\"type\":\"LinearAxis\"}],\"center\":[{\"id\":\"1674\",\"type\":\"Grid\"},{\"id\":\"1679\",\"type\":\"Grid\"}],\"left\":[{\"id\":\"1675\",\"type\":\"LinearAxis\"}],\"plot_height\":200,\"plot_width\":200,\"renderers\":[{\"id\":\"1696\",\"type\":\"GlyphRenderer\"}],\"title\":{\"id\":\"1660\",\"type\":\"Title\"},\"toolbar\":{\"id\":\"1686\",\"type\":\"Toolbar\"},\"x_range\":{\"id\":\"1662\",\"type\":\"DataRange1d\"},\"x_scale\":{\"id\":\"1666\",\"type\":\"LinearScale\"},\"y_range\":{\"id\":\"1664\",\"type\":\"DataRange1d\"},\"y_scale\":{\"id\":\"1668\",\"type\":\"LinearScale\"}},\"id\":\"1659\",\"subtype\":\"Figure\",\"type\":\"Plot\"},{\"attributes\":{\"formatter\":{\"id\":\"1741\",\"type\":\"BasicTickFormatter\"},\"ticker\":{\"id\":\"1676\",\"type\":\"BasicTicker\"}},\"id\":\"1675\",\"type\":\"LinearAxis\"},{\"attributes\":{},\"id\":\"1744\",\"type\":\"Selection\"},{\"attributes\":{},\"id\":\"1676\",\"type\":\"BasicTicker\"},{\"attributes\":{\"bottom_units\":\"screen\",\"fill_alpha\":{\"value\":0.5},\"fill_color\":{\"value\":\"lightgrey\"},\"left_units\":\"screen\",\"level\":\"overlay\",\"line_alpha\":{\"value\":1.0},\"line_color\":{\"value\":\"black\"},\"line_dash\":[4,4],\"line_width\":{\"value\":2},\"render_mode\":\"css\",\"right_units\":\"screen\",\"top_units\":\"screen\"},\"id\":\"1745\",\"type\":\"BoxAnnotation\"},{\"attributes\":{},\"id\":\"1671\",\"type\":\"BasicTicker\"},{\"attributes\":{\"dimension\":1,\"ticker\":{\"id\":\"1676\",\"type\":\"BasicTicker\"}},\"id\":\"1679\",\"type\":\"Grid\"},{\"attributes\":{\"fill_alpha\":{\"value\":0.1},\"fill_color\":{\"value\":\"#1f77b4\"},\"line_alpha\":{\"value\":0.1},\"line_color\":{\"value\":\"#1f77b4\"},\"size\":{\"units\":\"screen\",\"value\":12},\"x\":{\"field\":\"x\"},\"y\":{\"field\":\"y\"}},\"id\":\"1695\",\"type\":\"Circle\"},{\"attributes\":{\"fill_color\":{\"value\":\"indigo\"},\"line_color\":{\"value\":\"#1f77b4\"},\"size\":{\"units\":\"screen\",\"value\":12},\"x\":{\"field\":\"x\"},\"y\":{\"field\":\"y\"}},\"id\":\"1694\",\"type\":\"Circle\"},{\"attributes\":{\"active_drag\":\"auto\",\"active_inspect\":\"auto\",\"active_multi\":null,\"active_scroll\":\"auto\",\"active_tap\":\"auto\",\"tools\":[{\"id\":\"1680\",\"type\":\"PanTool\"},{\"id\":\"1681\",\"type\":\"WheelZoomTool\"},{\"id\":\"1682\",\"type\":\"BoxZoomTool\"},{\"id\":\"1683\",\"type\":\"SaveTool\"},{\"id\":\"1684\",\"type\":\"ResetTool\"},{\"id\":\"1685\",\"type\":\"HelpTool\"}]},\"id\":\"1686\",\"type\":\"Toolbar\"},{\"attributes\":{},\"id\":\"1680\",\"type\":\"PanTool\"},{\"attributes\":{},\"id\":\"1681\",\"type\":\"WheelZoomTool\"},{\"attributes\":{\"ticker\":{\"id\":\"1671\",\"type\":\"BasicTicker\"}},\"id\":\"1674\",\"type\":\"Grid\"},{\"attributes\":{\"overlay\":{\"id\":\"1745\",\"type\":\"BoxAnnotation\"}},\"id\":\"1682\",\"type\":\"BoxZoomTool\"},{\"attributes\":{},\"id\":\"1683\",\"type\":\"SaveTool\"},{\"attributes\":{},\"id\":\"1684\",\"type\":\"ResetTool\"},{\"attributes\":{},\"id\":\"1685\",\"type\":\"HelpTool\"},{\"attributes\":{\"formatter\":{\"id\":\"1739\",\"type\":\"BasicTickFormatter\"},\"ticker\":{\"id\":\"1671\",\"type\":\"BasicTicker\"}},\"id\":\"1670\",\"type\":\"LinearAxis\"},{\"attributes\":{\"data_source\":{\"id\":\"1693\",\"type\":\"ColumnDataSource\"},\"glyph\":{\"id\":\"1694\",\"type\":\"Circle\"},\"hover_glyph\":null,\"muted_glyph\":null,\"nonselection_glyph\":{\"id\":\"1695\",\"type\":\"Circle\"},\"selection_glyph\":null,\"view\":{\"id\":\"1697\",\"type\":\"CDSView\"}},\"id\":\"1696\",\"type\":\"GlyphRenderer\"},{\"attributes\":{\"callback\":null},\"id\":\"1664\",\"type\":\"DataRange1d\"},{\"attributes\":{\"source\":{\"id\":\"1693\",\"type\":\"ColumnDataSource\"}},\"id\":\"1697\",\"type\":\"CDSView\"},{\"attributes\":{},\"id\":\"1668\",\"type\":\"LinearScale\"},{\"attributes\":{},\"id\":\"1666\",\"type\":\"LinearScale\"},{\"attributes\":{\"callback\":null,\"data\":{\"x\":[1,2,3,4,5,6],\"y\":[4,8,10,11,7,3]},\"selected\":{\"id\":\"1744\",\"type\":\"Selection\"},\"selection_policy\":{\"id\":\"1743\",\"type\":\"UnionRenderers\"}},\"id\":\"1693\",\"type\":\"ColumnDataSource\"},{\"attributes\":{},\"id\":\"1739\",\"type\":\"BasicTickFormatter\"},{\"attributes\":{\"text\":\"test plot 2\"},\"id\":\"1660\",\"type\":\"Title\"},{\"attributes\":{},\"id\":\"1741\",\"type\":\"BasicTickFormatter\"},{\"attributes\":{\"callback\":null},\"id\":\"1662\",\"type\":\"DataRange1d\"},{\"attributes\":{},\"id\":\"1743\",\"type\":\"UnionRenderers\"}],\"root_ids\":[\"1659\"]},\"title\":\"Bokeh Application\",\"version\":\"1.2.0\"}};\n",
       "  var render_items = [{\"docid\":\"a5ef31e0-d264-4899-b4e3-0dabef4d1d05\",\"roots\":{\"1659\":\"8e00c50e-1900-4331-8c69-b1cb8b1dcebf\"}}];\n",
       "  root.Bokeh.embed.embed_items_notebook(docs_json, render_items);\n",
       "\n",
       "  }\n",
       "  if (root.Bokeh !== undefined) {\n",
       "    embed_document(root);\n",
       "  } else {\n",
       "    var attempts = 0;\n",
       "    var timer = setInterval(function(root) {\n",
       "      if (root.Bokeh !== undefined) {\n",
       "        embed_document(root);\n",
       "        clearInterval(timer);\n",
       "      }\n",
       "      attempts++;\n",
       "      if (attempts > 100) {\n",
       "        console.log(\"Bokeh: ERROR: Unable to run BokehJS code because BokehJS library is missing\");\n",
       "        clearInterval(timer);\n",
       "      }\n",
       "    }, 10, root)\n",
       "  }\n",
       "})(window);"
      ],
      "application/vnd.bokehjs_exec.v0+json": ""
     },
     "metadata": {
      "application/vnd.bokehjs_exec.v0+json": {
       "id": "1659"
      }
     },
     "output_type": "display_data"
    }
   ],
   "source": [
    "q=figure(title=\"test plot 2\", plot_width=200, plot_height=200)\n",
    "q.circle(x,y,size=12,fill_color=\"indigo\")\n",
    "show(q)"
   ]
  },
  {
   "cell_type": "markdown",
   "metadata": {},
   "source": [
    "### Calculate and plot\n",
    "\n",
    "Now combine a calculation with some plotting, and adjust the plot just the way we want it."
   ]
  },
  {
   "cell_type": "code",
   "execution_count": 10,
   "metadata": {},
   "outputs": [
    {
     "data": {
      "text/html": [
       "\n",
       "\n",
       "\n",
       "\n",
       "\n",
       "\n",
       "  <div class=\"bk-root\" id=\"48cea9bc-991e-41cd-abd0-0bb0193bd832\" data-root-id=\"1794\"></div>\n"
      ]
     },
     "metadata": {},
     "output_type": "display_data"
    },
    {
     "data": {
      "application/javascript": [
       "(function(root) {\n",
       "  function embed_document(root) {\n",
       "    \n",
       "  var docs_json = {\"27b1791e-7b86-46e0-9a95-357fd7189b36\":{\"roots\":{\"references\":[{\"attributes\":{\"below\":[{\"id\":\"1805\",\"type\":\"LinearAxis\"}],\"center\":[{\"id\":\"1809\",\"type\":\"Grid\"},{\"id\":\"1814\",\"type\":\"Grid\"}],\"left\":[{\"id\":\"1810\",\"type\":\"LinearAxis\"}],\"plot_height\":400,\"plot_width\":400,\"renderers\":[{\"id\":\"1831\",\"type\":\"GlyphRenderer\"},{\"id\":\"1836\",\"type\":\"GlyphRenderer\"},{\"id\":\"1841\",\"type\":\"GlyphRenderer\"}],\"title\":{\"id\":\"1795\",\"type\":\"Title\"},\"toolbar\":{\"id\":\"1821\",\"type\":\"Toolbar\"},\"x_range\":{\"id\":\"1797\",\"type\":\"Range1d\"},\"x_scale\":{\"id\":\"1801\",\"type\":\"LinearScale\"},\"y_range\":{\"id\":\"1799\",\"type\":\"Range1d\"},\"y_scale\":{\"id\":\"1803\",\"type\":\"LinearScale\"}},\"id\":\"1794\",\"subtype\":\"Figure\",\"type\":\"Plot\"},{\"attributes\":{\"source\":{\"id\":\"1833\",\"type\":\"ColumnDataSource\"}},\"id\":\"1837\",\"type\":\"CDSView\"},{\"attributes\":{\"axis_label\":\"y value\",\"formatter\":{\"id\":\"1894\",\"type\":\"BasicTickFormatter\"},\"ticker\":{\"id\":\"1811\",\"type\":\"BasicTicker\"}},\"id\":\"1810\",\"type\":\"LinearAxis\"},{\"attributes\":{},\"id\":\"1811\",\"type\":\"BasicTicker\"},{\"attributes\":{\"line_dash\":[2,2],\"x\":{\"field\":\"x\"},\"y\":{\"field\":\"y\"}},\"id\":\"1839\",\"type\":\"Line\"},{\"attributes\":{\"dimension\":1,\"ticker\":{\"id\":\"1811\",\"type\":\"BasicTicker\"}},\"id\":\"1814\",\"type\":\"Grid\"},{\"attributes\":{\"line_alpha\":0.1,\"line_color\":\"#1f77b4\",\"line_dash\":[2,2],\"x\":{\"field\":\"x\"},\"y\":{\"field\":\"y\"}},\"id\":\"1840\",\"type\":\"Line\"},{\"attributes\":{\"line_alpha\":0.1,\"line_color\":\"#1f77b4\",\"line_width\":2,\"x\":{\"field\":\"x\"},\"y\":{\"field\":\"y\"}},\"id\":\"1830\",\"type\":\"Line\"},{\"attributes\":{\"line_color\":\"red\",\"line_width\":2,\"x\":{\"field\":\"x\"},\"y\":{\"field\":\"y\"}},\"id\":\"1829\",\"type\":\"Line\"},{\"attributes\":{\"data_source\":{\"id\":\"1838\",\"type\":\"ColumnDataSource\"},\"glyph\":{\"id\":\"1839\",\"type\":\"Line\"},\"hover_glyph\":null,\"muted_glyph\":null,\"nonselection_glyph\":{\"id\":\"1840\",\"type\":\"Line\"},\"selection_glyph\":null,\"view\":{\"id\":\"1842\",\"type\":\"CDSView\"}},\"id\":\"1841\",\"type\":\"GlyphRenderer\"},{\"attributes\":{\"source\":{\"id\":\"1838\",\"type\":\"ColumnDataSource\"}},\"id\":\"1842\",\"type\":\"CDSView\"},{\"attributes\":{\"active_drag\":\"auto\",\"active_inspect\":\"auto\",\"active_multi\":null,\"active_scroll\":\"auto\",\"active_tap\":\"auto\",\"tools\":[{\"id\":\"1815\",\"type\":\"PanTool\"},{\"id\":\"1816\",\"type\":\"WheelZoomTool\"},{\"id\":\"1817\",\"type\":\"BoxZoomTool\"},{\"id\":\"1818\",\"type\":\"SaveTool\"},{\"id\":\"1819\",\"type\":\"ResetTool\"},{\"id\":\"1820\",\"type\":\"HelpTool\"}]},\"id\":\"1821\",\"type\":\"Toolbar\"},{\"attributes\":{},\"id\":\"1815\",\"type\":\"PanTool\"},{\"attributes\":{},\"id\":\"1897\",\"type\":\"Selection\"},{\"attributes\":{},\"id\":\"1816\",\"type\":\"WheelZoomTool\"},{\"attributes\":{\"overlay\":{\"id\":\"1902\",\"type\":\"BoxAnnotation\"}},\"id\":\"1817\",\"type\":\"BoxZoomTool\"},{\"attributes\":{},\"id\":\"1818\",\"type\":\"SaveTool\"},{\"attributes\":{},\"id\":\"1892\",\"type\":\"BasicTickFormatter\"},{\"attributes\":{\"callback\":null,\"data\":{\"x\":{\"__ndarray__\":\"AAAAAAAAEMCamZmZmZkPwDQzMzMzMw/AzszMzMzMDsBoZmZmZmYOwAIAAAAAAA7AnJmZmZmZDcA2MzMzMzMNwNDMzMzMzAzAamZmZmZmDMAEAAAAAAAMwJ6ZmZmZmQvAODMzMzMzC8DSzMzMzMwKwGxmZmZmZgrABgAAAAAACsCgmZmZmZkJwDozMzMzMwnA1MzMzMzMCMBuZmZmZmYIwAgAAAAAAAjAopmZmZmZB8A8MzMzMzMHwNbMzMzMzAbAcGZmZmZmBsAKAAAAAAAGwKSZmZmZmQXAPjMzMzMzBcDYzMzMzMwEwHJmZmZmZgTADAAAAAAABMCmmZmZmZkDwEAzMzMzMwPA2szMzMzMAsB0ZmZmZmYCwA4AAAAAAALAqJmZmZmZAcBCMzMzMzMBwNzMzMzMzADAdmZmZmZmAMAQAAAAAAAAwFQzMzMzM/+/iGZmZmZm/r+8mZmZmZn9v/DMzMzMzPy/JAAAAAAA/L9YMzMzMzP7v4xmZmZmZvq/wJmZmZmZ+b/0zMzMzMz4vygAAAAAAPi/XDMzMzMz97+QZmZmZmb2v8SZmZmZmfW/+MzMzMzM9L8sAAAAAAD0v2AzMzMzM/O/lGZmZmZm8r/ImZmZmZnxv/zMzMzMzPC/MAAAAAAA8L/IZmZmZmbuvzDNzMzMzOy/mDMzMzMz678AmpmZmZnpv2gAAAAAAOi/0GZmZmZm5r84zczMzMzkv6AzMzMzM+O/CJqZmZmZ4b9wAAAAAADgv7DNzMzMzNy/gJqZmZmZ2b9QZ2ZmZmbWvyA0MzMzM9O/8AAAAAAA0L+Am5mZmZnJvyA1MzMzM8O/gJ2ZmZmZub+AoZmZmZmpvwAAAAAAABC9gJGZmZmZqT+AlZmZmZm5PyAxMzMzM8M/gJeZmZmZyT/g/f/////PPyAyMzMzM9M/UGVmZmZm1j+AmJmZmZnZP7DLzMzMzNw/4P7/////3z8ImZmZmZnhP6AyMzMzM+M/OMzMzMzM5D/QZWZmZmbmP2j//////+c/AJmZmZmZ6T+YMjMzMzPrPzDMzMzMzOw/yGVmZmZm7j9g///////vP3zMzMzMzPA/SJmZmZmZ8T8UZmZmZmbyP+AyMzMzM/M/rP//////8z94zMzMzMz0P0SZmZmZmfU/EGZmZmZm9j/cMjMzMzP3P6j///////c/dMzMzMzM+D9AmZmZmZn5PwxmZmZmZvo/2DIzMzMz+z+k///////7P3DMzMzMzPw/PJmZmZmZ/T8IZmZmZmb+P9QyMzMzM/8/oP///////z82ZmZmZmYAQJzMzMzMzABAAjMzMzMzAUBomZmZmZkBQM7//////wFANGZmZmZmAkCazMzMzMwCQAAzMzMzMwNAZpmZmZmZA0DM//////8DQDJmZmZmZgRAmMzMzMzMBED+MjMzMzMFQGSZmZmZmQVAyv//////BUAwZmZmZmYGQJbMzMzMzAZA/DIzMzMzB0BimZmZmZkHQMj//////wdALmZmZmZmCECUzMzMzMwIQPoyMzMzMwlAYJmZmZmZCUDG//////8JQCxmZmZmZgpAkszMzMzMCkD4MjMzMzMLQF6ZmZmZmQtAxP//////C0AqZmZmZmYMQJDMzMzMzAxA9jIzMzMzDUBcmZmZmZkNQML//////w1AKGZmZmZmDkCOzMzMzMwOQPQyMzMzMw9AWpmZmZmZD0A=\",\"dtype\":\"float64\",\"shape\":[160]},\"y\":{\"__ndarray__\":\"AAAAAAAAUMC1yHa+n9BOwEi28/3UqE3ATQwCK4eITMBaDi2ynW9LwAUAAAAAXkrA4yQGgZVTScCKwMqhRVBIwI8W2c73U0fAh2q8dJNeRsAJAAAAAHBFwKoaL90kiETA/v3UeOmmQ8Cc7Xw/NcxCwBotsp3v90HADAAAAAAqQcAIqvHSTWJAwEjdJAaBQT/A6yLb+X7KPcAjrBxaZF88wBsAAAAAADvA/6WbxCCsOcD5JAaBlWM4wDUEVg4tJjfA3cqhRbbzNcAcAAAAAMw0wB4rhxbZrjPADtNNYhCcMsAWf2q8dJMxwGK28/3UlDDAOAAAAABAL8Dgxks3iWktwBDP91PjpSvAICcxCKz0KcBl3SQGgVUowDUAAAAAyCbA5p3vp8ZLJcDPxCCwcuAjwEWDwMqhhSLAnuf7qfE6IcAwAAAAAAAgwKO28/3UqB3AsQ4tsp1vG8A1JQaBlVMZwN0W2c73UxfAUwAAAABwFcBD/tR46aYTwFstsp3v9xHARqrx0k1iEMBeI9v5fsoNwIcAAAAAAAvAXiUGgZVjCMA7y6FFtvMFwHYrhxbZrgPAZ39qvHSTAcDOAAAAAED/v5vP91Pjpfu/5N0kBoFV+L9bnu+nxkv1v6+DwMqhhfK/kAAAAAAA8L9eDy2ynW/rv3gX2c73U+e/zv7UeOmm47/BqvHSTWLgv18BAAAAANu/98uhRbbz1b8KgGq8dJPRv6/Q91Pjpcu/Q5/vp8ZLxb9QAQAAAADAv68Y2c73U7e/tqvx0k1isL9vzaFFtvOlv9jS91PjpZu/0AIAAAAAkL+irfHSTWKAvyrX91PjpWu/ebHx0k1iUL8nufHSTWIgvwAAAAAAAFC3b5rx0k1iID8dovHSTWJQP+LF91PjpWs/9KXx0k1igD+g+f////+PPzTK91PjpZs/jsehRbbzpT/fp/HSTWKwP9MT2c73U7c/oPz/////vz+im++nxkvFP13M91Pjpcs/gX1qvHST0T8GyaFFtvPVP//9/////9o/1ajx0k1i4D+j/NR46abjPwoV2c73U+c/qQwtsp1v6z8g/v/////vPweCwMqhhfI/ipzvp8ZL9T/o2yQGgVX4P3LN91Pjpfs/dv7///8//z8jfmq8dJMBQBgqhxbZrgNAwsmhRbbzBUDKIwaBlWMIQNf+/////wpAkSHb+X7KDUBQqfHSTWIQQFYssp3v9xFALv3UeOmmE0At/////28VQKYV2c73UxdA7SMGgZVTGUBWDS2ynW8bQDa18/3UqB1A4P7/////H0DU5vup8TohQHGCwMqhhSJA8cMgsHLgI0D+nO+nxkslQEL/////xyZAZ9wkBoFVKEAXJjEIrPQpQPzN91PjpStAwMVLN4lpLUAM/////z8vQMa18/3UlDBAdH5qvHSTMUBm0k1iEJwyQHAqhxbZrjNAZ//////LNEAhyqFFtvM1QHIDVg4tJjdALyQGgZVjOEAupZvEIKw5QEP//////zpAQ6scWmRfPEAEItv5fso9QFrcJAaBQT9Ajanx0k1iQECN/////ylBQJcssp3v90FAFu18PzXMQkBz/dR46aZDQBsaL90kiERAdv////9vRUDwabx0k15GQPMV2c73U0dA6r/KoUVQSEA/JAaBlVNJQF3/////XUpArQ0tsp1vS0CbCwIrh4hMQJG18/3UqE1A+sd2vp/QTkA=\",\"dtype\":\"float64\",\"shape\":[160]}},\"selected\":{\"id\":\"1897\",\"type\":\"Selection\"},\"selection_policy\":{\"id\":\"1896\",\"type\":\"UnionRenderers\"}},\"id\":\"1828\",\"type\":\"ColumnDataSource\"},{\"attributes\":{\"callback\":null,\"data\":{\"x\":[-4.0,4.0],\"y\":[0,0]},\"selected\":{\"id\":\"1899\",\"type\":\"Selection\"},\"selection_policy\":{\"id\":\"1898\",\"type\":\"UnionRenderers\"}},\"id\":\"1833\",\"type\":\"ColumnDataSource\"},{\"attributes\":{},\"id\":\"1819\",\"type\":\"ResetTool\"},{\"attributes\":{\"text\":\"Function plot\"},\"id\":\"1795\",\"type\":\"Title\"},{\"attributes\":{},\"id\":\"1894\",\"type\":\"BasicTickFormatter\"},{\"attributes\":{},\"id\":\"1820\",\"type\":\"HelpTool\"},{\"attributes\":{\"callback\":null,\"end\":5.2,\"start\":-5.2},\"id\":\"1797\",\"type\":\"Range1d\"},{\"attributes\":{},\"id\":\"1896\",\"type\":\"UnionRenderers\"},{\"attributes\":{\"callback\":null,\"end\":80.11883749999828,\"start\":-83.2},\"id\":\"1799\",\"type\":\"Range1d\"},{\"attributes\":{},\"id\":\"1898\",\"type\":\"UnionRenderers\"},{\"attributes\":{},\"id\":\"1801\",\"type\":\"LinearScale\"},{\"attributes\":{},\"id\":\"1899\",\"type\":\"Selection\"},{\"attributes\":{\"data_source\":{\"id\":\"1828\",\"type\":\"ColumnDataSource\"},\"glyph\":{\"id\":\"1829\",\"type\":\"Line\"},\"hover_glyph\":null,\"muted_glyph\":null,\"nonselection_glyph\":{\"id\":\"1830\",\"type\":\"Line\"},\"selection_glyph\":null,\"view\":{\"id\":\"1832\",\"type\":\"CDSView\"}},\"id\":\"1831\",\"type\":\"GlyphRenderer\"},{\"attributes\":{\"source\":{\"id\":\"1828\",\"type\":\"ColumnDataSource\"}},\"id\":\"1832\",\"type\":\"CDSView\"},{\"attributes\":{},\"id\":\"1803\",\"type\":\"LinearScale\"},{\"attributes\":{},\"id\":\"1900\",\"type\":\"UnionRenderers\"},{\"attributes\":{\"callback\":null,\"data\":{\"x\":[0,0],\"y\":[-64.0,61.62987499999868]},\"selected\":{\"id\":\"1901\",\"type\":\"Selection\"},\"selection_policy\":{\"id\":\"1900\",\"type\":\"UnionRenderers\"}},\"id\":\"1838\",\"type\":\"ColumnDataSource\"},{\"attributes\":{\"axis_label\":\"x value\",\"formatter\":{\"id\":\"1892\",\"type\":\"BasicTickFormatter\"},\"ticker\":{\"id\":\"1806\",\"type\":\"BasicTicker\"}},\"id\":\"1805\",\"type\":\"LinearAxis\"},{\"attributes\":{},\"id\":\"1901\",\"type\":\"Selection\"},{\"attributes\":{\"line_dash\":[6,6],\"line_width\":2,\"x\":{\"field\":\"x\"},\"y\":{\"field\":\"y\"}},\"id\":\"1834\",\"type\":\"Line\"},{\"attributes\":{},\"id\":\"1806\",\"type\":\"BasicTicker\"},{\"attributes\":{\"bottom_units\":\"screen\",\"fill_alpha\":{\"value\":0.5},\"fill_color\":{\"value\":\"lightgrey\"},\"left_units\":\"screen\",\"level\":\"overlay\",\"line_alpha\":{\"value\":1.0},\"line_color\":{\"value\":\"black\"},\"line_dash\":[4,4],\"line_width\":{\"value\":2},\"render_mode\":\"css\",\"right_units\":\"screen\",\"top_units\":\"screen\"},\"id\":\"1902\",\"type\":\"BoxAnnotation\"},{\"attributes\":{\"line_alpha\":0.1,\"line_color\":\"#1f77b4\",\"line_dash\":[6,6],\"line_width\":2,\"x\":{\"field\":\"x\"},\"y\":{\"field\":\"y\"}},\"id\":\"1835\",\"type\":\"Line\"},{\"attributes\":{\"ticker\":{\"id\":\"1806\",\"type\":\"BasicTicker\"}},\"id\":\"1809\",\"type\":\"Grid\"},{\"attributes\":{\"data_source\":{\"id\":\"1833\",\"type\":\"ColumnDataSource\"},\"glyph\":{\"id\":\"1834\",\"type\":\"Line\"},\"hover_glyph\":null,\"muted_glyph\":null,\"nonselection_glyph\":{\"id\":\"1835\",\"type\":\"Line\"},\"selection_glyph\":null,\"view\":{\"id\":\"1837\",\"type\":\"CDSView\"}},\"id\":\"1836\",\"type\":\"GlyphRenderer\"}],\"root_ids\":[\"1794\"]},\"title\":\"Bokeh Application\",\"version\":\"1.2.0\"}};\n",
       "  var render_items = [{\"docid\":\"27b1791e-7b86-46e0-9a95-357fd7189b36\",\"roots\":{\"1794\":\"48cea9bc-991e-41cd-abd0-0bb0193bd832\"}}];\n",
       "  root.Bokeh.embed.embed_items_notebook(docs_json, render_items);\n",
       "\n",
       "  }\n",
       "  if (root.Bokeh !== undefined) {\n",
       "    embed_document(root);\n",
       "  } else {\n",
       "    var attempts = 0;\n",
       "    var timer = setInterval(function(root) {\n",
       "      if (root.Bokeh !== undefined) {\n",
       "        embed_document(root);\n",
       "        clearInterval(timer);\n",
       "      }\n",
       "      attempts++;\n",
       "      if (attempts > 100) {\n",
       "        console.log(\"Bokeh: ERROR: Unable to run BokehJS code because BokehJS library is missing\");\n",
       "        clearInterval(timer);\n",
       "      }\n",
       "    }, 10, root)\n",
       "  }\n",
       "})(window);"
      ],
      "application/vnd.bokehjs_exec.v0+json": ""
     },
     "metadata": {
      "application/vnd.bokehjs_exec.v0+json": {
       "id": "1794"
      }
     },
     "output_type": "display_data"
    }
   ],
   "source": [
    "xmin=-4.0; xmax=4.0  # set the range of x\n",
    "x=np.arange(xmin,xmax,0.05) # create x-ray array going in steps of 0.05\n",
    "y=x**3\n",
    "ymin=np.min(y); ymax=np.max(y)\n",
    "\n",
    "# Note that \"figure\" picks sensible defaults for plot range,\n",
    "# but here we demonstrate how you can set the range \n",
    "# manually if you wish with xrange and yrange\n",
    "cplot=figure(title='Function plot',\n",
    "plot_width=400, plot_height=400,\n",
    "x_axis_label='x value', y_axis_label='y value',\n",
    "x_range=(1.3*xmin, 1.3*xmax), y_range=(1.3*ymin,1.3*ymax)  )\n",
    "\n",
    "# make a line from our calculated arrays\n",
    "cplot.line(x,y,line_width=2,color='red')\n",
    "# now make a horizontal dashed line at y=0\n",
    "cplot.line([xmin,xmax],[0,0],line_color='black',line_dash=[6,6], line_width=2)\n",
    "# now make a vertical dashed line at x=0\n",
    "cplot.line([0,0],[ymin,ymax],line_color='black',line_dash=[2,2])\n",
    "\n",
    "show(cplot)\n"
   ]
  },
  {
   "cell_type": "code",
   "execution_count": null,
   "metadata": {},
   "outputs": [],
   "source": []
  }
 ],
 "metadata": {
  "kernelspec": {
   "display_name": "Python 3",
   "language": "python",
   "name": "python3"
  },
  "language_info": {
   "codemirror_mode": {
    "name": "ipython",
    "version": 3
   },
   "file_extension": ".py",
   "mimetype": "text/x-python",
   "name": "python",
   "nbconvert_exporter": "python",
   "pygments_lexer": "ipython3",
   "version": "3.6.5"
  }
 },
 "nbformat": 4,
 "nbformat_minor": 2
}
