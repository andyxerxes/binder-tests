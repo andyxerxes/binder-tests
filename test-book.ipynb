{
 "cells": [
  {
   "cell_type": "markdown",
   "metadata": {},
   "source": [
    "## Test notebook: interactive public use  \n",
    "*Version 2024 May 13*\n",
    "\n",
    "Simplest possible notebook for testing interactivity\n",
    "\n",
    "Can I see it? Can I download my own copy? Can I change numbers and run it?"
   ]
  },
  {
   "cell_type": "code",
   "execution_count": 2,
   "metadata": {},
   "outputs": [
    {
     "name": "stdout",
     "output_type": "stream",
     "text": [
      "you gave me: a= 9 b= 4\n",
      "so a*b= 36\n"
     ]
    }
   ],
   "source": [
    "\n",
    "a=9\n",
    "b=4\n",
    "c=a*b\n",
    "print('you gave me: a=', a, 'b=',b)\n",
    "print('so a*b=',c)"
   ]
  },
  {
   "cell_type": "code",
   "execution_count": null,
   "metadata": {},
   "outputs": [],
   "source": []
  }
 ],
 "metadata": {
  "kernelspec": {
   "display_name": "Python 3 (ipykernel)",
   "language": "python",
   "name": "python3"
  },
  "language_info": {
   "codemirror_mode": {
    "name": "ipython",
    "version": 3
   },
   "file_extension": ".py",
   "mimetype": "text/x-python",
   "name": "python",
   "nbconvert_exporter": "python",
   "pygments_lexer": "ipython3",
   "version": "3.9.17"
  }
 },
 "nbformat": 4,
 "nbformat_minor": 2
}
